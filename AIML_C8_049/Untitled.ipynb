{
 "cells": [
  {
   "cell_type": "code",
   "execution_count": 1,
   "metadata": {},
   "outputs": [
    {
     "name": "stdout",
     "output_type": "stream",
     "text": [
      "hghgh\n",
      "string is pa..\n"
     ]
    }
   ],
   "source": [
    "a=input(\"\")\n",
    "b=a[::-1]\n",
    "if(a==b):\n",
    "    print(\"string is pa..\")\n",
    "else:\n",
    "    print(\"string is not\")"
   ]
  },
  {
   "cell_type": "code",
   "execution_count": null,
   "metadata": {},
   "outputs": [],
   "source": [
    "a=input(\"Enter a String\")\n",
    "y=int(input(\"enter index\"))\n",
    "print(a[0:y]+a[y+1:len(a)])"
   ]
  },
  {
   "cell_type": "code",
   "execution_count": null,
   "metadata": {},
   "outputs": [],
   "source": [
    "a=input(\"Enter a String\")\n",
    "print(a[0:len(a):2])"
   ]
  },
  {
   "cell_type": "code",
   "execution_count": null,
   "metadata": {},
   "outputs": [],
   "source": [
    "a=\"Krishit Shah\"\n",
    "print(a[0:6].lower())\n",
    "print(a[6:len(a)].upper())\n",
    "\n"
   ]
  },
  {
   "cell_type": "code",
   "execution_count": null,
   "metadata": {},
   "outputs": [],
   "source": [
    "a=input(\"Enter a String\")\n",
    "print(a.split(\" \"))"
   ]
  },
  {
   "cell_type": "code",
   "execution_count": null,
   "metadata": {},
   "outputs": [],
   "source": [
    "a=input(\"Enter a String\")\n",
    "space=0\n",
    "for i in a:\n",
    "#     print(i)\n",
    "    if(i.isupper()):\n",
    "        print(i,\"is upper\")\n",
    "    if(i.islower()):\n",
    "        print(i,\"is lower\")\n",
    "    if(i==\" \"):\n",
    "        space+=1\n",
    "print(\"space is\",space)\n"
   ]
  },
  {
   "cell_type": "code",
   "execution_count": null,
   "metadata": {},
   "outputs": [],
   "source": [
    "a=input(\"Enter a String\")\n",
    "y=0\n",
    "l=0\n",
    "space=0\n",
    "for i in a:\n",
    "#     print(i)\n",
    "    if(i.isupper()):\n",
    "        y=y+1\n",
    "    if(i.islower()):\n",
    "        l=l+1\n",
    "    if(i==\" \"):\n",
    "        space+=1\n",
    "print(\"space is\",space)\n",
    "print( y,l)"
   ]
  },
  {
   "cell_type": "code",
   "execution_count": null,
   "metadata": {},
   "outputs": [],
   "source": [
    "a=input(\"enter a password\")\n",
    "len_a=len(a)\n",
    "if(len_a>=8):\n",
    "    for i in a:\n",
    "        if(i.isdigit()):\n",
    "            for i in a:\n",
    "                if(i.isupper()):\n",
    "                    print(\"Password is Strong!!\")\n",
    "                if(i.isupper()):\n",
    "                    print(\"password must contain 1 upper case\")\n",
    "\n",
    "        else:\n",
    "            print(\"password must contain 1 digit\")\n",
    "else:\n",
    "    print(\"Password must have minimun 8 letters\")\n",
    "\n"
   ]
  },
  {
   "cell_type": "code",
   "execution_count": null,
   "metadata": {
    "scrolled": true
   },
   "outputs": [],
   "source": [
    "a=eval(input(\"enter number\"))\n",
    "print(len(a))\n",
    "print(max(a))\n",
    "print(min(a))\n",
    "print(a.count(2))\n",
    "print(sorted(a))\n",
    "print(sorted(a,reverse=True))"
   ]
  },
  {
   "cell_type": "code",
   "execution_count": 2,
   "metadata": {},
   "outputs": [
    {
     "name": "stdout",
     "output_type": "stream",
     "text": [
      "enter number6565\n"
     ]
    },
    {
     "ename": "TypeError",
     "evalue": "'int' object is not iterable",
     "output_type": "error",
     "traceback": [
      "\u001b[1;31m---------------------------------------------------------------------------\u001b[0m",
      "\u001b[1;31mTypeError\u001b[0m                                 Traceback (most recent call last)",
      "\u001b[1;32m<ipython-input-2-8373532499a5>\u001b[0m in \u001b[0;36m<module>\u001b[1;34m\u001b[0m\n\u001b[0;32m      2\u001b[0m \u001b[0meven\u001b[0m\u001b[1;33m=\u001b[0m\u001b[1;33m(\u001b[0m\u001b[1;33m)\u001b[0m\u001b[1;33m\u001b[0m\u001b[1;33m\u001b[0m\u001b[0m\n\u001b[0;32m      3\u001b[0m \u001b[0mod\u001b[0m\u001b[1;33m=\u001b[0m\u001b[1;33m(\u001b[0m\u001b[1;33m)\u001b[0m\u001b[1;33m\u001b[0m\u001b[1;33m\u001b[0m\u001b[0m\n\u001b[1;32m----> 4\u001b[1;33m \u001b[1;32mfor\u001b[0m \u001b[0mi\u001b[0m \u001b[1;32min\u001b[0m \u001b[0ma\u001b[0m\u001b[1;33m:\u001b[0m\u001b[1;33m\u001b[0m\u001b[1;33m\u001b[0m\u001b[0m\n\u001b[0m\u001b[0;32m      5\u001b[0m     \u001b[1;32mif\u001b[0m\u001b[1;33m(\u001b[0m\u001b[0mi\u001b[0m\u001b[1;33m%\u001b[0m\u001b[1;36m2\u001b[0m\u001b[1;33m==\u001b[0m\u001b[1;36m0\u001b[0m\u001b[1;33m)\u001b[0m\u001b[1;33m:\u001b[0m\u001b[1;33m\u001b[0m\u001b[1;33m\u001b[0m\u001b[0m\n\u001b[0;32m      6\u001b[0m         \u001b[0meven\u001b[0m\u001b[1;33m=\u001b[0m\u001b[0meven\u001b[0m\u001b[1;33m+\u001b[0m\u001b[1;33m(\u001b[0m\u001b[0mi\u001b[0m\u001b[1;33m,\u001b[0m\u001b[1;33m)\u001b[0m\u001b[1;33m\u001b[0m\u001b[1;33m\u001b[0m\u001b[0m\n",
      "\u001b[1;31mTypeError\u001b[0m: 'int' object is not iterable"
     ]
    }
   ],
   "source": [
    "a=eval(input(\"enter number\"))\n",
    "even=()\n",
    "od=()\n",
    "for i in a:\n",
    "    if(i%2==0):\n",
    "        even=even+(i,)\n",
    "    else:\n",
    "        od=od+(i,)\n",
    "print(even)\n",
    "print(od)"
   ]
  },
  {
   "cell_type": "markdown",
   "metadata": {},
   "source": []
  },
  {
   "cell_type": "code",
   "execution_count": 3,
   "metadata": {},
   "outputs": [
    {
     "name": "stdout",
     "output_type": "stream",
     "text": [
      "enter number55\n"
     ]
    },
    {
     "ename": "TypeError",
     "evalue": "'int' object is not iterable",
     "output_type": "error",
     "traceback": [
      "\u001b[1;31m---------------------------------------------------------------------------\u001b[0m",
      "\u001b[1;31mTypeError\u001b[0m                                 Traceback (most recent call last)",
      "\u001b[1;32m<ipython-input-3-ea93e534f6f2>\u001b[0m in \u001b[0;36m<module>\u001b[1;34m\u001b[0m\n\u001b[0;32m      2\u001b[0m \u001b[0meven\u001b[0m\u001b[1;33m=\u001b[0m\u001b[1;33m[\u001b[0m\u001b[1;33m]\u001b[0m\u001b[1;33m\u001b[0m\u001b[1;33m\u001b[0m\u001b[0m\n\u001b[0;32m      3\u001b[0m \u001b[0mod\u001b[0m\u001b[1;33m=\u001b[0m\u001b[1;33m[\u001b[0m\u001b[1;33m]\u001b[0m\u001b[1;33m\u001b[0m\u001b[1;33m\u001b[0m\u001b[0m\n\u001b[1;32m----> 4\u001b[1;33m \u001b[1;32mfor\u001b[0m \u001b[0mi\u001b[0m \u001b[1;32min\u001b[0m \u001b[0ma\u001b[0m\u001b[1;33m:\u001b[0m\u001b[1;33m\u001b[0m\u001b[1;33m\u001b[0m\u001b[0m\n\u001b[0m\u001b[0;32m      5\u001b[0m     \u001b[1;32mif\u001b[0m\u001b[1;33m(\u001b[0m\u001b[0mi\u001b[0m\u001b[1;33m%\u001b[0m\u001b[1;36m2\u001b[0m\u001b[1;33m==\u001b[0m\u001b[1;36m0\u001b[0m\u001b[1;33m)\u001b[0m\u001b[1;33m:\u001b[0m\u001b[1;33m\u001b[0m\u001b[1;33m\u001b[0m\u001b[0m\n\u001b[0;32m      6\u001b[0m         \u001b[0meven\u001b[0m\u001b[1;33m.\u001b[0m\u001b[0mappend\u001b[0m\u001b[1;33m(\u001b[0m\u001b[0mi\u001b[0m\u001b[1;33m)\u001b[0m\u001b[1;33m\u001b[0m\u001b[1;33m\u001b[0m\u001b[0m\n",
      "\u001b[1;31mTypeError\u001b[0m: 'int' object is not iterable"
     ]
    }
   ],
   "source": [
    "a=eval(input(\"enter number\"))\n",
    "even=[]\n",
    "od=[]\n",
    "for i in a:\n",
    "    if(i%2==0):\n",
    "        even.append(i)\n",
    "    else:\n",
    "        od.append(i)\n",
    "print(even)\n",
    "print(od)"
   ]
  },
  {
   "cell_type": "code",
   "execution_count": 4,
   "metadata": {},
   "outputs": [
    {
     "name": "stdout",
     "output_type": "stream",
     "text": [
      "enter numbernmnm\n"
     ]
    },
    {
     "ename": "NameError",
     "evalue": "name 'nmnm' is not defined",
     "output_type": "error",
     "traceback": [
      "\u001b[1;31m---------------------------------------------------------------------------\u001b[0m",
      "\u001b[1;31mNameError\u001b[0m                                 Traceback (most recent call last)",
      "\u001b[1;32m<ipython-input-4-58ff588592f3>\u001b[0m in \u001b[0;36m<module>\u001b[1;34m\u001b[0m\n\u001b[1;32m----> 1\u001b[1;33m \u001b[0ma\u001b[0m\u001b[1;33m=\u001b[0m\u001b[0meval\u001b[0m\u001b[1;33m(\u001b[0m\u001b[0minput\u001b[0m\u001b[1;33m(\u001b[0m\u001b[1;34m\"enter number\"\u001b[0m\u001b[1;33m)\u001b[0m\u001b[1;33m)\u001b[0m\u001b[1;33m\u001b[0m\u001b[1;33m\u001b[0m\u001b[0m\n\u001b[0m\u001b[0;32m      2\u001b[0m \u001b[0mprint\u001b[0m\u001b[1;33m(\u001b[0m\u001b[0msorted\u001b[0m\u001b[1;33m(\u001b[0m\u001b[0ma\u001b[0m\u001b[1;33m)\u001b[0m\u001b[1;33m)\u001b[0m\u001b[1;33m\u001b[0m\u001b[1;33m\u001b[0m\u001b[0m\n\u001b[0;32m      3\u001b[0m \u001b[0mb\u001b[0m\u001b[1;33m=\u001b[0m\u001b[0msorted\u001b[0m\u001b[1;33m(\u001b[0m\u001b[0ma\u001b[0m\u001b[1;33m,\u001b[0m\u001b[0mreverse\u001b[0m\u001b[1;33m=\u001b[0m\u001b[1;32mTrue\u001b[0m\u001b[1;33m)\u001b[0m\u001b[1;33m\u001b[0m\u001b[1;33m\u001b[0m\u001b[0m\n\u001b[0;32m      4\u001b[0m \u001b[0mprint\u001b[0m\u001b[1;33m(\u001b[0m\u001b[0mb\u001b[0m\u001b[1;33m[\u001b[0m\u001b[1;36m0\u001b[0m\u001b[1;33m]\u001b[0m\u001b[1;33m,\u001b[0m\u001b[0mb\u001b[0m\u001b[1;33m[\u001b[0m\u001b[1;36m1\u001b[0m\u001b[1;33m]\u001b[0m\u001b[1;33m,\u001b[0m\u001b[0mb\u001b[0m\u001b[1;33m[\u001b[0m\u001b[1;36m2\u001b[0m\u001b[1;33m]\u001b[0m\u001b[1;33m)\u001b[0m\u001b[1;33m\u001b[0m\u001b[1;33m\u001b[0m\u001b[0m\n",
      "\u001b[1;32m<string>\u001b[0m in \u001b[0;36m<module>\u001b[1;34m\u001b[0m\n",
      "\u001b[1;31mNameError\u001b[0m: name 'nmnm' is not defined"
     ]
    }
   ],
   "source": [
    "a=eval(input(\"enter number\"))\n",
    "print(sorted(a))\n",
    "b=sorted(a,reverse=True)\n",
    "print(b[0],b[1],b[2])"
   ]
  },
  {
   "cell_type": "code",
   "execution_count": null,
   "metadata": {},
   "outputs": [],
   "source": [
    "a=eval(input(\"enter number\"))\n",
    "\n",
    "for i in a:\n",
    "    x=i[0]\n",
    "    y=i[-1]\n",
    "    z=len(i)\n",
    "    j=i[1:z-1]\n",
    "    x,y=y,x\n",
    "    print(x+j+y)\n"
   ]
  },
  {
   "cell_type": "code",
   "execution_count": null,
   "metadata": {},
   "outputs": [],
   "source": [
    "a=eval(input(\"enter number\"))\n",
    "z=[]\n",
    "for i in a:\n",
    "    if(len(i)>=3):\n",
    "        z.append(i)\n",
    "print(z)"
   ]
  },
  {
   "cell_type": "code",
   "execution_count": null,
   "metadata": {},
   "outputs": [],
   "source": [
    "a=eval(input(\"enter number\"))\n",
    "z=[]\n",
    "for i in a:\n",
    "\n",
    "    if(i[0]==i[-1]):\n",
    "        z.append(i)\n",
    "        print(z)"
   ]
  },
  {
   "cell_type": "code",
   "execution_count": null,
   "metadata": {},
   "outputs": [],
   "source": [
    "a=eval(input(\"enter number\"))\n",
    "for i in a:\n",
    "    for j in i:\n",
    "        print(sorted(j))\n",
    "        b=sorted(j,reverse=True)\n",
    "#         print(b)\n",
    "        "
   ]
  },
  {
   "cell_type": "code",
   "execution_count": null,
   "metadata": {},
   "outputs": [],
   "source": [
    "ch = input(\"enter a strimg\")\n",
    "b=int(input(\"enter a increamental number \"))\n",
    "z=\"\"\n",
    "for i in ch:\n",
    "    x = chr(ord(i) + b)\n",
    "    z+=\"\".join(x)\n",
    "print(z)\n",
    "print(len(z))"
   ]
  },
  {
   "cell_type": "code",
   "execution_count": null,
   "metadata": {},
   "outputs": [],
   "source": [
    "ch = input(\"enter a strimg\")\n",
    "b=int(input(\"enter a increamental number \"))\n",
    "\n",
    "for i in ch:\n",
    "    x = chr(ord(i) + b)\n",
    "\n",
    "    print(x)\n",
    "print(len(z))"
   ]
  },
  {
   "cell_type": "code",
   "execution_count": null,
   "metadata": {},
   "outputs": [],
   "source": [
    "ch = input(\"Enter a string: \")\n",
    "b = int(input(\"Enter an incremental number: \"))\n",
    "for i in ch:\n",
    "    x = chr(ord(i) + b)  \n",
    "    if x == '#':\n",
    "        x = ' ' \n",
    "    print(x, end='') \n",
    "print() \n",
    "print(\"Length of input string:\", len(ch))"
   ]
  },
  {
   "cell_type": "code",
   "execution_count": null,
   "metadata": {},
   "outputs": [],
   "source": [
    "x=input(\"enter a string\")\n",
    "x=x.upper()\n",
    "z=\"ABCDEFGHIJKLMNOPQRSTUVWXYZ\"\n",
    "key=int(input(\"enter key\"))\n",
    "r=\"\"\n",
    "for i in x:\n",
    "    if i in z:\n",
    "        index=(z.find(i)+key)%len(z)\n",
    "        r=r+z[index]\n",
    "    else: \n",
    "        r=r+\" \"\n",
    "print(r)"
   ]
  },
  {
   "cell_type": "code",
   "execution_count": null,
   "metadata": {},
   "outputs": [],
   "source": [
    "x=input(\"enter a string\")\n",
    "key=int(input(\"enter key\"))\n",
    "r=\"\"\n",
    "for i in range(key):\n",
    "    r=r+x[i::key]\n",
    "print(r)\n",
    "# {1,2,3,4,5,6}\n",
    "{1,2,3,4,5,6,7,8,9}"
   ]
  },
  {
   "cell_type": "code",
   "execution_count": null,
   "metadata": {},
   "outputs": [],
   "source": [
    "# {1,2,3,4,5,6}\n",
    "# {1,2,3,4,5,6,7,8,9}\n",
    "a=eval(input(\"enter number\"))\n",
    "b=eval(input(\"enter number\"))\n",
    "\n",
    "print(b.issubset(a))\n",
    "print(a.issubset(b))\n",
    "print(a.issuperset(b))\n",
    "print(a.difference(b))\n",
    "print(a.union(b))\n",
    "print(a.intersection(b))\n",
    "print(a.symmetric_difference(b))"
   ]
  },
  {
   "cell_type": "code",
   "execution_count": null,
   "metadata": {},
   "outputs": [],
   "source": [
    "a=eval(input(\"enter number\"))\n",
    "b=eval(input(\"enter number\"))\n",
    "print(a.union(b))\n",
    "print(a.difference(b))"
   ]
  },
  {
   "cell_type": "code",
   "execution_count": null,
   "metadata": {},
   "outputs": [],
   "source": [
    "a=input(\"enter number\")\n",
    "b=set(a)\n",
    "print(b)\n"
   ]
  },
  {
   "cell_type": "code",
   "execution_count": null,
   "metadata": {},
   "outputs": [],
   "source": [
    "a=eval(input(\"enter number\"))\n",
    "# print(sorted(a))\n",
    "# b=sorted(a,reverse=True)\n",
    "# print(b[0],b[1],b[2])\n",
    "\n",
    "for i in a:\n",
    "    b=sorted(a,reverse=True)\n",
    "print(b)\n"
   ]
  },
  {
   "cell_type": "code",
   "execution_count": null,
   "metadata": {},
   "outputs": [],
   "source": [
    "a = int(input(\"Enter a number: \"))\n",
    "b = ['zero', 'one', 'two', 'three', 'four', 'five', 'six', 'seven', 'eight', 'nine', 'ten', 'eleven', 'twelve', 'thirteen', 'fourteen', 'fifteen', 'sixteen', 'seventeen', 'eighteen', 'nineteen']\n",
    "c = ['twenty', 'thirty', 'forty', 'fifty', 'sixty', 'seventy', 'eighty', 'ninety']\n",
    "if a < 20:\n",
    "    print(f\"Input in word is {b[a]}\")\n",
    "elif a < 100:\n",
    "    tens = a // 10\n",
    "    ones = a % 10\n",
    "    if ones == 0:\n",
    "        print(f\"Input in word is {c[tens - 2]}\") \n",
    "    else:\n",
    "        print(f\"Input in word is {c[tens - 2]}-{b[ones]}\")\n",
    "elif a < 1000:\n",
    "    hundreds = a // 100\n",
    "    remainder = a % 100\n",
    "    if remainder < 20:\n",
    "        print(f\"Input in word is {b[hundreds]} hundred {b[remainder]}\")\n",
    "    else:\n",
    "        tens = remainder // 10\n",
    "        ones = remainder % 10\n",
    "        if ones == 0:\n",
    "            print(f\"Input in word is {b[hundreds]} hundred {c[tens - 2]}\")\n",
    "        else:\n",
    "            print(f\"Input in word is {b[hundreds]} hundred {c[tens - 2]}-{b[ones]}\")\n",
    "elif a < 10000:\n",
    "    thousands = a // 1000\n",
    "    remainder = a % 1000\n",
    "    if remainder < 20:\n",
    "        print(f\"Input in word is {b[thousands]} thousand {b[remainder]}\")\n",
    "    else:\n",
    "        hundreds = remainder // 100\n",
    "        remainder = remainder % 100\n",
    "        if remainder < 20:\n",
    "            print(f\"Input in word is {b[thousands]} thousand {b[hundreds]} hundred {b[remainder]}\")\n",
    "        else:\n",
    "            tens = remainder // 10\n",
    "            ones = remainder % 10\n",
    "            if ones == 0:\n",
    "                print(f\"Input in word is {b[thousands]} thousand {b[hundreds]} hundred {c[tens - 2]}\")\n",
    "            else:\n",
    "                print(f\"Input in word is {b[thousands]} thousand {b[hundreds]} hundred {c[tens - 2]}-{b[ones]}\")"
   ]
  },
  {
   "cell_type": "raw",
   "metadata": {},
   "source": [
    "a = input(\"Enter a number: \")\n",
    "c=\"\"\n",
    "for i in a:\n",
    "    if i.isalpha():\n",
    "        c=c+i\n",
    "print(c)"
   ]
  },
  {
   "cell_type": "code",
   "execution_count": 151,
   "metadata": {},
   "outputs": [
    {
     "name": "stdout",
     "output_type": "stream",
     "text": [
      "Enter a number: 13456\n",
      "6163646566\n"
     ]
    }
   ],
   "source": [
    "a = input(\"Enter a number: \")\n",
    "\n",
    "c=\"\"\n",
    "for i in range(len(a)):\n",
    "    if a[i] != a[i-1]:\n",
    "        c=c+a[i]\n",
    "print(c)"
   ]
  },
  {
   "cell_type": "code",
   "execution_count": 128,
   "metadata": {},
   "outputs": [
    {
     "name": "stdout",
     "output_type": "stream",
     "text": [
      "enter string{}}}\n",
      "is balanced\n",
      "is balanced\n"
     ]
    }
   ],
   "source": [
    "a=input(\"enter string\")\n",
    "if len(a)%2 != 0:\n",
    "    print(\"string is not balanced\")\n",
    "else:\n",
    "    for i in range(len(a)):"
   ]
  },
  {
   "cell_type": "code",
   "execution_count": 138,
   "metadata": {},
   "outputs": [
    {
     "name": "stdout",
     "output_type": "stream",
     "text": [
      "enter stringKrishit Bhadresh Shah\n",
      "KBS"
     ]
    }
   ],
   "source": [
    "a=input(\"enter string\")\n",
    "b= a.split()\n",
    "for i in b:\n",
    "    print(i[0],end=\"\")"
   ]
  },
  {
   "cell_type": "code",
   "execution_count": 159,
   "metadata": {},
   "outputs": [
    {
     "name": "stdout",
     "output_type": "stream",
     "text": [
      "Enter a number: 00123456\n",
      "['0', '6', '1', '6', '2', '6', '3', '6', '4', '6', '5', '6', '6']\n"
     ]
    }
   ],
   "source": [
    "a = input(\"Enter a number: \")\n",
    "c = []\n",
    "for i in range(len(a)):\n",
    "    if i == 0 or a[i] != a[i - 1]:\n",
    "        c.append('6')\n",
    "        c.append(a[i])\n",
    "print(c[1:]) \n"
   ]
  },
  {
   "cell_type": "code",
   "execution_count": 177,
   "metadata": {},
   "outputs": [
    {
     "name": "stdout",
     "output_type": "stream",
     "text": [
      "[35, 77, 91]\n"
     ]
    }
   ],
   "source": [
    "result = []\n",
    "for i in range(0, 101):\n",
    "    if(i % 2 != 0):\n",
    "        if(i % 7 == 0):  \n",
    "            if (i // 10) % 2 != 0:  \n",
    "                result.append(i)\n",
    "\n",
    "print(result)\n"
   ]
  },
  {
   "cell_type": "code",
   "execution_count": 15,
   "metadata": {},
   "outputs": [
    {
     "name": "stdout",
     "output_type": "stream",
     "text": [
      "dict_keys(['name', 'age'])\n",
      "dict_values(['Krishit', 18])\n"
     ]
    },
    {
     "data": {
      "text/plain": [
       "{1: {6, 7, 8, 9}, 2: {6, 7, 8, 9}, 3: {6, 7, 8, 9}, 4: {6, 7, 8, 9}}"
      ]
     },
     "execution_count": 15,
     "metadata": {},
     "output_type": "execute_result"
    }
   ],
   "source": [
    "a={\"name\":\"Krishit\",\"age\":18}\n",
    "print(a.keys())\n",
    "print(a.values())\n",
    "d={}\n",
    "s={1,2,3,4}\n",
    "v={6,7,8,9}\n",
    "d.fromkeys(s,v)\n"
   ]
  },
  {
   "cell_type": "code",
   "execution_count": 32,
   "metadata": {},
   "outputs": [
    {
     "name": "stdout",
     "output_type": "stream",
     "text": [
      "enter a num2\n",
      "Enter player's name: adad\n",
      "Enter player's runs: 2\n",
      "Enter player's name: a\n",
      "Enter player's runs: 111\n",
      "{'adad': '2', 'a': '111'}\n",
      "enter namea\n",
      "Run of a is 111\n"
     ]
    }
   ],
   "source": [
    "x = {}\n",
    "a=int(input(\"enter a num\"))\n",
    "for i in range(a):\n",
    "    name = input(\"Enter player's name: \")\n",
    "    run = input(\"Enter player's runs: \")\n",
    "    x.update({name:run})\n",
    "print(x)\n",
    "v=input(\"enter name\")\n",
    "if v in x:\n",
    "    print(f\"Run of {v} is\", x.get(v))\n",
    "else:\n",
    "    print(\"player not found\")"
   ]
  },
  {
   "cell_type": "code",
   "execution_count": 40,
   "metadata": {},
   "outputs": [
    {
     "name": "stdout",
     "output_type": "stream",
     "text": [
      "name Krishit\n",
      "age 18\n",
      "name Krishit\n",
      "age 18\n"
     ]
    }
   ],
   "source": [
    "a={\"name\":\"Krishit\",\"age\":18}\n",
    "for i in a:\n",
    "    print(i,a[i])\n",
    "for i,j in a.items():\n",
    "    print(i,j)"
   ]
  },
  {
   "cell_type": "code",
   "execution_count": 53,
   "metadata": {},
   "outputs": [
    {
     "data": {
      "text/plain": [
       "[(10, 'blue'), (20, 'yellow'), (50, 'Blue')]"
      ]
     },
     "execution_count": 53,
     "metadata": {},
     "output_type": "execute_result"
    }
   ],
   "source": [
    "color={50:'Blue',10:'blue',20:'yellow'}\n",
    "sorted(color.items(),key=lambda x:x[0])"
   ]
  },
  {
   "cell_type": "code",
   "execution_count": 54,
   "metadata": {},
   "outputs": [
    {
     "name": "stdout",
     "output_type": "stream",
     "text": [
      "{'India': 'ahmedabad', 'Australia': 'sydeny', 'Spain': 'Madrid', 'Italy': 'Turin'}\n"
     ]
    }
   ],
   "source": [
    "country=[\"India\",\"Australia\",\"Spain\",\"Italy\"]\n",
    "city=[\"ahmedabad\",\"sydeny\",\"Madrid\",\"Turin\"]\n",
    "z=zip(country,city)\n",
    "d=dict(z)\n",
    "print(d)"
   ]
  },
  {
   "cell_type": "code",
   "execution_count": 79,
   "metadata": {},
   "outputs": [
    {
     "name": "stdout",
     "output_type": "stream",
     "text": [
      "{'N': ['Nory', 'Nory’s'], 'w': ['was', 'was', 'was', 'was', 'was', 'was'], 'a': ['a', 'a', 'and', 'a', 'a', 'and', 'a', 'a'], 'C': ['Catholic', 'Catholic,', 'Catholic', 'Catholic,', 'Catholic', 'Catholic,'], 'b': ['because', 'because', 'because', 'been.'], 'h': ['her', 'her', 'her', 'his', 'had'], 'm': ['mother', 'mother', 'mother'], 'f': ['father', 'father'], 'o': ['or']}\n"
     ]
    }
   ],
   "source": [
    "s=\"Nory was a Catholic because her mother was a Catholic, and Nory’s mother was a Catholic because her father was a Catholic, and her father was a Catholic because his mother was a Catholic, or had been.\"\n",
    "d={}\n",
    "l=s.split()\n",
    "for i in l:\n",
    "    d[i[0]]=d.get(i[0],[])\n",
    "    d[i[0]].append(i)\n",
    "# z=sorted(d.items(),key=lambda x:x[1], reverse=True)\n",
    "print(d)\n"
   ]
  },
  {
   "cell_type": "code",
   "execution_count": 8,
   "metadata": {},
   "outputs": [
    {
     "name": "stdout",
     "output_type": "stream",
     "text": [
      "{'N': ['N', 'N'], 'o': ['o', 'o', 'o', 'o', 'o', 'o', 'o', 'o', 'o', 'o', 'o', 'o'], 'r': ['r', 'r', 'r', 'r', 'r', 'r', 'r', 'r', 'r', 'r', 'r'], 'y': ['y', 'y'], ' ': [' ', ' ', ' ', ' ', ' ', ' ', ' ', ' ', ' ', ' ', ' ', ' ', ' ', ' ', ' ', ' ', ' ', ' ', ' ', ' ', ' ', ' ', ' ', ' ', ' ', ' ', ' ', ' ', ' ', ' ', ' ', ' ', ' ', ' ', ' ', ' '], 'w': ['w', 'w', 'w', 'w', 'w', 'w'], 'a': ['a', 'a', 'a', 'a', 'a', 'a', 'a', 'a', 'a', 'a', 'a', 'a', 'a', 'a', 'a', 'a', 'a', 'a', 'a', 'a', 'a', 'a', 'a', 'a', 'a', 'a'], 's': ['s', 's', 's', 's', 's', 's', 's', 's', 's', 's', 's'], 'C': ['C', 'C', 'C', 'C', 'C', 'C'], 't': ['t', 't', 't', 't', 't', 't', 't', 't', 't', 't', 't'], 'h': ['h', 'h', 'h', 'h', 'h', 'h', 'h', 'h', 'h', 'h', 'h', 'h', 'h', 'h', 'h', 'h'], 'l': ['l', 'l', 'l', 'l', 'l', 'l'], 'i': ['i', 'i', 'i', 'i', 'i', 'i', 'i'], 'c': ['c', 'c', 'c', 'c', 'c', 'c', 'c', 'c', 'c'], 'b': ['b', 'b', 'b', 'b'], 'e': ['e', 'e', 'e', 'e', 'e', 'e', 'e', 'e', 'e', 'e', 'e', 'e', 'e', 'e', 'e', 'e'], 'u': ['u', 'u', 'u'], 'm': ['m', 'm', 'm'], ',': [',', ',', ','], 'n': ['n', 'n', 'n'], 'd': ['d', 'd', 'd'], '’': ['’'], 'f': ['f', 'f'], '.': ['.']}\n"
     ]
    }
   ],
   "source": [
    "s=\"Nory was a Catholic because her mother was a Catholic, and Nory’s mother was a Catholic because her father was a Catholic, and her father was a Catholic because his mother was a Catholic, or had been.\"\n",
    "d={}\n",
    "l=s.split()\n",
    "for i in s:\n",
    "    d[i[0]]=d.get(i[0],[])\n",
    "    d[i[0]].append(i)\n",
    "# z=sorted(d.items(),key=lambda x:x[1], reverse=True)\n",
    "print(d)\n"
   ]
  },
  {
   "cell_type": "code",
   "execution_count": 10,
   "metadata": {},
   "outputs": [
    {
     "name": "stdout",
     "output_type": "stream",
     "text": [
      "{'Nory': 1, 'was': 6, 'a': 6, 'Catholic': 3, 'because': 3, 'her': 3, 'mother': 3, 'Catholic,': 3, 'and': 2, 'Nory’s': 1, 'father': 2, 'his': 1, 'or': 1, 'had': 1, 'been.': 1}\n"
     ]
    }
   ],
   "source": [
    "s=\"Nory was a Catholic because her mother was a Catholic, and Nory’s mother was a Catholic because her father was a Catholic, and her father was a Catholic because his mother was a Catholic, or had been.\"\n",
    "d={}\n",
    "l=s.split()\n",
    "for i in l:\n",
    "    d[i]=d.get(i,0)+1\n",
    "# z=sorted(d.items(),key=lambda x:x[1], reverse=True)\n",
    "print(d)\n"
   ]
  },
  {
   "cell_type": "code",
   "execution_count": 7,
   "metadata": {},
   "outputs": [
    {
     "name": "stdout",
     "output_type": "stream",
     "text": [
      "{'Nory': ['Nory'], 'was': ['was', 'was', 'was', 'was', 'was', 'was'], 'a': ['a', 'a', 'a', 'a', 'a', 'a'], 'Catholic': ['Catholic', 'Catholic', 'Catholic'], 'because': ['because', 'because', 'because'], 'her': ['her', 'her', 'her'], 'mother': ['mother', 'mother', 'mother'], 'Catholic,': ['Catholic,', 'Catholic,', 'Catholic,'], 'and': ['and', 'and'], 'Nory’s': ['Nory’s'], 'father': ['father', 'father'], 'his': ['his'], 'or': ['or'], 'had': ['had'], 'been.': ['been.']}\n"
     ]
    }
   ],
   "source": [
    "s=\"Nory was a Catholic because her mother was a Catholic, and Nory’s mother was a Catholic because her father was a Catholic, and her father was a Catholic because his mother was a Catholic, or had been.\"\n",
    "d={}\n",
    "l=s.split()\n",
    "for i in l:\n",
    "    d[i]=d.get(i,[])\n",
    "    d[i].append(i)\n",
    "# z=sorted(d.items(),key=lambda x:x[1], reverse=True)\n",
    "print(d)"
   ]
  },
  {
   "cell_type": "code",
   "execution_count": 15,
   "metadata": {},
   "outputs": [
    {
     "name": "stdout",
     "output_type": "stream",
     "text": [
      "[(' ', 36), ('a', 26), ('h', 16), ('e', 16), ('o', 12), ('r', 11), ('s', 11), ('t', 11), ('c', 9), ('i', 7), ('w', 6), ('C', 6), ('l', 6), ('b', 4), ('u', 3), ('m', 3), (',', 3), ('n', 3), ('d', 3), ('N', 2), ('y', 2), ('f', 2), ('’', 1), ('.', 1)]\n"
     ]
    }
   ],
   "source": [
    "s=\"Nory was a Catholic because her mother was a Catholic, and Nory’s mother was a Catholic because her father was a Catholic, and her father was a Catholic because his mother was a Catholic, or had been.\"\n",
    "d={}\n",
    "l=s.split()\n",
    "for i in s:\n",
    "    d[i]=d.get(i,0)+1\n",
    "z=sorted(d.items(),key=lambda x:x[1], reverse=True)\n",
    "print(z)\n"
   ]
  },
  {
   "cell_type": "code",
   "execution_count": null,
   "metadata": {},
   "outputs": [],
   "source": [
    "s=eval(input(\"enter numbers\"))\n",
    "d={}\n",
    "for i in s:\n",
    "    d[i]=d.get(i,[])t\n",
    "    d[i].append(i)\n",
    "# z=sorted(d.items(),key=lambda x:x[1], reverse=True)\n",
    "print(d)\n"
   ]
  },
  {
   "cell_type": "code",
   "execution_count": 116,
   "metadata": {
    "scrolled": true
   },
   "outputs": [
    {
     "name": "stdout",
     "output_type": "stream",
     "text": [
      "Enter a password: Krishit@123\n",
      "Password is valid.\n",
      "Input in word is six\n"
     ]
    }
   ],
   "source": [
    "a = input(\"Enter a password: \")\n",
    "len_a = len(a)\n",
    "has_digit = False\n",
    "has_upper = False\n",
    "has_spechar = False\n",
    "d={}\n",
    "if len_a >= 8:\n",
    "    for i in a:\n",
    "        if i.isdigit():\n",
    "            has_digit = True\n",
    "        if i.isupper():\n",
    "            has_upper = True\n",
    "        if i == \"@\" or i==\"#\" or i==\"?\":\n",
    "            has_spechar=True\n",
    "\n",
    "    if has_digit and has_upper and has_spechar:\n",
    "        print(\"Password is valid.\")\n",
    "    else:\n",
    "        if not has_digit:\n",
    "            print(\"Password must contain at least one digit.\")\n",
    "        if not has_upper:\n",
    "            print(\"Password must contain at least one uppercase letter.\")\n",
    "        if not has_spechar:\n",
    "            print(\"password must have contains atleas this character @,#,?\")\n",
    "else:\n",
    "    print(\"Password must have a minimum of 8 characters.\")\n",
    "\n",
    "count=0\n",
    "for x in a:\n",
    "    if x.isdigit():\n",
    "        x=int(x)\n",
    "        count=count+x\n",
    "count=int(count)\n",
    "b1 = ['zero', 'one', 'two', 'three', 'four', 'five', 'six', 'seven', 'eight', 'nine', 'ten', 'eleven', 'twelve', 'thirteen', 'fourteen', 'fifteen', 'sixteen', 'seventeen', 'eighteen', 'nineteen']\n",
    "c1 = ['twenty', 'thirty', 'forty', 'fifty', 'sixty', 'seventy', 'eighty', 'ninety']\n",
    "if count < 20:\n",
    "    print(f\"Input in word is {b1[count]}\")\n",
    "elif count < 100:\n",
    "    tens = count // 10\n",
    "    ones = count % 10\n",
    "    if ones == 0:\n",
    "        print(f\"Input in word is {c1[tens - 2]}\") \n",
    "    else:\n",
    "        print(f\"Input in word is {c1[tens - 2]}-{b1[ones]}\")\n",
    "elif count < 1000:\n",
    "    hundreds = count // 100\n",
    "    remainder = count % 100\n",
    "    if remainder < 20:\n",
    "        print(f\"Input in word is {b1[hundreds]} hundred {b1[remainder]}\")\n",
    "    else:\n",
    "        tens = remainder // 10\n",
    "        ones = remainder % 10\n",
    "        if ones == 0:\n",
    "            print(f\"Input in word is {b1[hundreds]} hundred {c1[tens - 2]}\")\n",
    "        else:\n",
    "            print(f\"Input in word is {b1[hundreds]} hundred {c1[tens - 2]}-{b1[ones]}\")\n",
    "    "
   ]
  },
  {
   "cell_type": "code",
   "execution_count": 119,
   "metadata": {},
   "outputs": [
    {
     "name": "stdout",
     "output_type": "stream",
     "text": [
      "Enter a password: Krishit@1223\n",
      "Password is valid.\n",
      "Input in word is eight\n"
     ]
    }
   ],
   "source": [
    "a = input(\"Enter a password: \")\n",
    "len_a = len(a)\n",
    "has_digit = False\n",
    "has_upper = False\n",
    "has_spechar = False\n",
    "d={}\n",
    "if len_a >= 8:\n",
    "    for i in a:\n",
    "        if i.isdigit():\n",
    "            has_digit = True\n",
    "        if i.isupper():\n",
    "            has_upper = True\n",
    "        if i == \"@\" or i==\"#\" or i==\"?\":\n",
    "            has_spechar=True\n",
    "\n",
    "    if has_digit and has_upper and has_spechar:\n",
    "        print(\"Password is valid.\")\n",
    "    else:\n",
    "        if not has_digit:\n",
    "            print(\"Password must contain at least one digit.\")\n",
    "        if not has_upper:\n",
    "            print(\"Password must contain at least one uppercase letter.\")\n",
    "        if not has_spechar:\n",
    "            print(\"password must have contains atleas this character @,#,?\")\n",
    "else:\n",
    "    print(\"Password must have a minimum of 8 characters.\")\n",
    "\n",
    "count=0\n",
    "for x in a:\n",
    "    if x.isdigit():\n",
    "        x=int(x)\n",
    "        count=count+x\n",
    "count=int(count)\n",
    "b1 = ['zero', 'one', 'two', 'three', 'four', 'five', 'six', 'seven', 'eight', 'nine', 'ten', 'eleven', 'twelve', 'thirteen', 'fourteen', 'fifteen', 'sixteen', 'seventeen', 'eighteen', 'nineteen']\n",
    "c1 = ['twenty', 'thirty', 'forty', 'fifty', 'sixty', 'seventy', 'eighty', 'ninety']\n",
    "if count < 20:\n",
    "    print(f\"Input in word is {b1[count]}\")\n",
    "elif count < 100:\n",
    "    tens = count // 10\n",
    "    ones = count % 10\n",
    "    if ones == 0:\n",
    "        print(f\"Input in word is {c1[tens - 2]}\") \n",
    "    else:\n",
    "        print(f\"Input in word is {c1[tens - 2]}-{b1[ones]}\")\n",
    "elif count < 1000:\n",
    "    hundreds = count // 100\n",
    "    remainder = count % 100\n",
    "    if remainder < 20:\n",
    "        print(f\"Input in word is {b1[hundreds]} hundred {b1[remainder]}\")\n",
    "    else:\n",
    "        tens = remainder // 10\n",
    "        ones = remainder % 10\n",
    "        if ones == 0:\n",
    "            print(f\"Input in word is {b1[hundreds]} hundred {c1[tens - 2]}\")\n",
    "        else:\n",
    "            print(f\"Input in word is {b1[hundreds]} hundred {c1[tens - 2]}-{b1[ones]}\")\n",
    "    "
   ]
  },
  {
   "cell_type": "code",
   "execution_count": null,
   "metadata": {},
   "outputs": [],
   "source": []
  },
  {
   "cell_type": "code",
   "execution_count": null,
   "metadata": {},
   "outputs": [],
   "source": []
  }
 ],
 "metadata": {
  "kernelspec": {
   "display_name": "Python 3",
   "language": "python",
   "name": "python3"
  },
  "language_info": {
   "codemirror_mode": {
    "name": "ipython",
    "version": 3
   },
   "file_extension": ".py",
   "mimetype": "text/x-python",
   "name": "python",
   "nbconvert_exporter": "python",
   "pygments_lexer": "ipython3",
   "version": "3.8.5"
  }
 },
 "nbformat": 4,
 "nbformat_minor": 4
}
