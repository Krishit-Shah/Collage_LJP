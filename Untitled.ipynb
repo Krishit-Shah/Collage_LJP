{
 "cells": [
  {
   "cell_type": "code",
   "execution_count": 26,
   "metadata": {},
   "outputs": [
    {
     "name": "stdout",
     "output_type": "stream",
     "text": [
      "1232112321\n",
      "string is pa..\n"
     ]
    }
   ],
   "source": [
    "a=input(\"\")\n",
    "b=a[::-1]\n",
    "if(a==b):\n",
    "    print(\"string is pa..\")\n",
    "else:\n",
    "    print(\"string is not\")"
   ]
  },
  {
   "cell_type": "code",
   "execution_count": 40,
   "metadata": {},
   "outputs": [
    {
     "name": "stdout",
     "output_type": "stream",
     "text": [
      "Enter a StringHey, how are you!\n",
      "enter index6\n",
      "Hey, hw are you!\n"
     ]
    }
   ],
   "source": [
    "a=input(\"Enter a String\")\n",
    "y=int(input(\"enter index\"))\n",
    "print(a[0:y]+a[y+1:len(a)])"
   ]
  },
  {
   "cell_type": "code",
   "execution_count": 41,
   "metadata": {},
   "outputs": [
    {
     "name": "stdout",
     "output_type": "stream",
     "text": [
      "Enter a StringKrishit Shah\n",
      "KihtSa\n"
     ]
    }
   ],
   "source": [
    "a=input(\"Enter a String\")\n",
    "print(a[0:len(a):2])"
   ]
  },
  {
   "cell_type": "code",
   "execution_count": 49,
   "metadata": {},
   "outputs": [
    {
     "name": "stdout",
     "output_type": "stream",
     "text": [
      "krishi\n",
      "T SHAH\n"
     ]
    }
   ],
   "source": [
    "a=\"Krishit Shah\"\n",
    "print(a[0:6].lower())\n",
    "print(a[6:len(a)].upper())\n",
    "\n"
   ]
  },
  {
   "cell_type": "code",
   "execution_count": 66,
   "metadata": {},
   "outputs": [
    {
     "ename": "KeyboardInterrupt",
     "evalue": "Interrupted by user",
     "output_type": "error",
     "traceback": [
      "\u001b[1;31m---------------------------------------------------------------------------\u001b[0m",
      "\u001b[1;31mKeyboardInterrupt\u001b[0m                         Traceback (most recent call last)",
      "\u001b[1;32m<ipython-input-66-039c55ccb8e6>\u001b[0m in \u001b[0;36m<module>\u001b[1;34m\u001b[0m\n\u001b[1;32m----> 1\u001b[1;33m \u001b[0ma\u001b[0m\u001b[1;33m=\u001b[0m\u001b[0minput\u001b[0m\u001b[1;33m(\u001b[0m\u001b[1;34m\"Enter a String\"\u001b[0m\u001b[1;33m)\u001b[0m\u001b[1;33m\u001b[0m\u001b[1;33m\u001b[0m\u001b[0m\n\u001b[0m\u001b[0;32m      2\u001b[0m \u001b[0mprint\u001b[0m\u001b[1;33m(\u001b[0m\u001b[0ma\u001b[0m\u001b[1;33m.\u001b[0m\u001b[0msplit\u001b[0m\u001b[1;33m(\u001b[0m\u001b[1;34m\" \"\u001b[0m\u001b[1;33m)\u001b[0m\u001b[1;33m)\u001b[0m\u001b[1;33m\u001b[0m\u001b[1;33m\u001b[0m\u001b[0m\n",
      "\u001b[1;32mC:\\ProgramData\\Anaconda3\\lib\\site-packages\\ipykernel\\kernelbase.py\u001b[0m in \u001b[0;36mraw_input\u001b[1;34m(self, prompt)\u001b[0m\n\u001b[0;32m    858\u001b[0m                 \u001b[1;34m\"raw_input was called, but this frontend does not support input requests.\"\u001b[0m\u001b[1;33m\u001b[0m\u001b[1;33m\u001b[0m\u001b[0m\n\u001b[0;32m    859\u001b[0m             )\n\u001b[1;32m--> 860\u001b[1;33m         return self._input_request(str(prompt),\n\u001b[0m\u001b[0;32m    861\u001b[0m             \u001b[0mself\u001b[0m\u001b[1;33m.\u001b[0m\u001b[0m_parent_ident\u001b[0m\u001b[1;33m,\u001b[0m\u001b[1;33m\u001b[0m\u001b[1;33m\u001b[0m\u001b[0m\n\u001b[0;32m    862\u001b[0m             \u001b[0mself\u001b[0m\u001b[1;33m.\u001b[0m\u001b[0m_parent_header\u001b[0m\u001b[1;33m,\u001b[0m\u001b[1;33m\u001b[0m\u001b[1;33m\u001b[0m\u001b[0m\n",
      "\u001b[1;32mC:\\ProgramData\\Anaconda3\\lib\\site-packages\\ipykernel\\kernelbase.py\u001b[0m in \u001b[0;36m_input_request\u001b[1;34m(self, prompt, ident, parent, password)\u001b[0m\n\u001b[0;32m    902\u001b[0m             \u001b[1;32mexcept\u001b[0m \u001b[0mKeyboardInterrupt\u001b[0m\u001b[1;33m:\u001b[0m\u001b[1;33m\u001b[0m\u001b[1;33m\u001b[0m\u001b[0m\n\u001b[0;32m    903\u001b[0m                 \u001b[1;31m# re-raise KeyboardInterrupt, to truncate traceback\u001b[0m\u001b[1;33m\u001b[0m\u001b[1;33m\u001b[0m\u001b[1;33m\u001b[0m\u001b[0m\n\u001b[1;32m--> 904\u001b[1;33m                 \u001b[1;32mraise\u001b[0m \u001b[0mKeyboardInterrupt\u001b[0m\u001b[1;33m(\u001b[0m\u001b[1;34m\"Interrupted by user\"\u001b[0m\u001b[1;33m)\u001b[0m \u001b[1;32mfrom\u001b[0m \u001b[1;32mNone\u001b[0m\u001b[1;33m\u001b[0m\u001b[1;33m\u001b[0m\u001b[0m\n\u001b[0m\u001b[0;32m    905\u001b[0m             \u001b[1;32mexcept\u001b[0m \u001b[0mException\u001b[0m \u001b[1;32mas\u001b[0m \u001b[0me\u001b[0m\u001b[1;33m:\u001b[0m\u001b[1;33m\u001b[0m\u001b[1;33m\u001b[0m\u001b[0m\n\u001b[0;32m    906\u001b[0m                 \u001b[0mself\u001b[0m\u001b[1;33m.\u001b[0m\u001b[0mlog\u001b[0m\u001b[1;33m.\u001b[0m\u001b[0mwarning\u001b[0m\u001b[1;33m(\u001b[0m\u001b[1;34m\"Invalid Message:\"\u001b[0m\u001b[1;33m,\u001b[0m \u001b[0mexc_info\u001b[0m\u001b[1;33m=\u001b[0m\u001b[1;32mTrue\u001b[0m\u001b[1;33m)\u001b[0m\u001b[1;33m\u001b[0m\u001b[1;33m\u001b[0m\u001b[0m\n",
      "\u001b[1;31mKeyboardInterrupt\u001b[0m: Interrupted by user"
     ]
    }
   ],
   "source": [
    "a=input(\"Enter a String\")\n",
    "print(a.split(\" \"))"
   ]
  },
  {
   "cell_type": "code",
   "execution_count": 89,
   "metadata": {},
   "outputs": [
    {
     "name": "stdout",
     "output_type": "stream",
     "text": [
      "Enter a StringKrishit Shah\n",
      "K is upper\n",
      "r is lower\n",
      "i is lower\n",
      "s is lower\n",
      "h is lower\n",
      "i is lower\n",
      "t is lower\n",
      "S is upper\n",
      "h is lower\n",
      "a is lower\n",
      "h is lower\n",
      "space is 1\n"
     ]
    }
   ],
   "source": [
    "a=input(\"Enter a String\")\n",
    "space=0\n",
    "for i in a:\n",
    "#     print(i)\n",
    "    if(i.isupper()):\n",
    "        print(i,\"is upper\")\n",
    "    if(i.islower()):\n",
    "        print(i,\"is lower\")\n",
    "    if(i==\" \"):\n",
    "        space+=1\n",
    "print(\"space is\",space)\n"
   ]
  },
  {
   "cell_type": "code",
   "execution_count": 2,
   "metadata": {},
   "outputs": [
    {
     "name": "stdout",
     "output_type": "stream",
     "text": [
      "Enter a StringKrishit B Shah\n",
      "space is 2\n",
      "3 9\n"
     ]
    }
   ],
   "source": [
    "a=input(\"Enter a String\")\n",
    "y=0\n",
    "l=0\n",
    "space=0\n",
    "for i in a:\n",
    "#     print(i)\n",
    "    if(i.isupper()):\n",
    "        y=y+1\n",
    "    if(i.islower()):\n",
    "        l=l+1\n",
    "    if(i==\" \"):\n",
    "        space+=1\n",
    "print(\"space is\",space)\n",
    "print( y,l)"
   ]
  },
  {
   "cell_type": "code",
   "execution_count": 13,
   "metadata": {},
   "outputs": [
    {
     "name": "stdout",
     "output_type": "stream",
     "text": [
      "enter a passwordkrishitshah1\n",
      "password must contain 1 digit\n"
     ]
    }
   ],
   "source": [
    "a=input(\"enter a password\")\n",
    "len_a=len(a)\n",
    "if(len_a>=8):\n",
    "    for i in a:\n",
    "        if(i.isdigit()):\n",
    "            for i in a:\n",
    "                if(i.isupper()):\n",
    "                    print(\"Password is Strong!!\")\n",
    "                if(i.isupper()):\n",
    "                    print(\"password must contain 1 upper case\")\n",
    "\n",
    "        else:\n",
    "            print(\"password must contain 1 digit\")\n",
    "else:\n",
    "    print(\"Password must have minimun 8 letters\")\n",
    "\n"
   ]
  },
  {
   "cell_type": "code",
   "execution_count": 35,
   "metadata": {
    "scrolled": true
   },
   "outputs": [
    {
     "name": "stdout",
     "output_type": "stream",
     "text": [
      "enter number(1,1,1,1,122,551,41,441,44,2,2,2,2,2)\n",
      "14\n",
      "551\n",
      "1\n",
      "5\n",
      "[551, 441, 122, 44, 41, 2, 2, 2, 2, 2, 1, 1, 1, 1]\n"
     ]
    }
   ],
   "source": [
    "a=eval(input(\"enter number\"))\n",
    "print(len(a))\n",
    "print(max(a))\n",
    "print(min(a))\n",
    "print(a.count(2))\n",
    "print(sorted(a))\n",
    "print(sorted(a,reverse=True))"
   ]
  },
  {
   "cell_type": "code",
   "execution_count": 9,
   "metadata": {},
   "outputs": [
    {
     "name": "stdout",
     "output_type": "stream",
     "text": [
      "enter number[1,1,1,1,122,551,41,441,44,2,2,2,2,2]\n",
      "(122, 44, 2, 2, 2, 2, 2)\n",
      "(1, 1, 1, 1, 551, 41, 441)\n"
     ]
    }
   ],
   "source": [
    "a=eval(input(\"enter number\"))\n",
    "even=()\n",
    "od=()\n",
    "for i in a:\n",
    "    if(i%2==0):\n",
    "        even=even+(i,)\n",
    "    else:\n",
    "        od=od+(i,)\n",
    "print(even)\n",
    "print(od)"
   ]
  },
  {
   "cell_type": "markdown",
   "metadata": {},
   "source": []
  },
  {
   "cell_type": "code",
   "execution_count": 13,
   "metadata": {},
   "outputs": [
    {
     "name": "stdout",
     "output_type": "stream",
     "text": [
      "enter number[1,1,1,1,122,551,41,441,44,2,2,2,2,2]\n",
      "[122, 44, 2, 2, 2, 2, 2]\n",
      "[1, 1, 1, 1, 551, 41, 441]\n"
     ]
    }
   ],
   "source": [
    "a=eval(input(\"enter number\"))\n",
    "even=[]\n",
    "od=[]\n",
    "for i in a:\n",
    "    if(i%2==0):\n",
    "        even.append(i)\n",
    "    else:\n",
    "        od.append(i)\n",
    "print(even)\n",
    "print(od)"
   ]
  },
  {
   "cell_type": "code",
   "execution_count": 23,
   "metadata": {},
   "outputs": [
    {
     "name": "stdout",
     "output_type": "stream",
     "text": [
      "enter number[1,1,1,1,122,551,41,441,44,2,2,2,2,2]\n",
      "[1, 1, 1, 1, 2, 2, 2, 2, 2, 41, 44, 122, 441, 551]\n",
      "551 441 122\n"
     ]
    }
   ],
   "source": [
    "a=eval(input(\"enter number\"))\n",
    "print(sorted(a))\n",
    "b=sorted(a,reverse=True)\n",
    "print(b[0],b[1],b[2])"
   ]
  },
  {
   "cell_type": "code",
   "execution_count": 85,
   "metadata": {},
   "outputs": [
    {
     "name": "stdout",
     "output_type": "stream",
     "text": [
      "enter number[\"abc\",\"abcd\"]\n",
      "cba\n",
      "dbca\n"
     ]
    }
   ],
   "source": [
    "a=eval(input(\"enter number\"))\n",
    "\n",
    "for i in a:\n",
    "    x=i[0]\n",
    "    y=i[-1]\n",
    "    z=len(i)\n",
    "    j=i[1:z-1]\n",
    "    x,y=y,x\n",
    "    print(x+j+y)\n"
   ]
  },
  {
   "cell_type": "code",
   "execution_count": 84,
   "metadata": {},
   "outputs": [
    {
     "name": "stdout",
     "output_type": "stream",
     "text": [
      "enter number\"abc\"\n",
      "[]\n"
     ]
    }
   ],
   "source": [
    "a=eval(input(\"enter number\"))\n",
    "z=[]\n",
    "for i in a:\n",
    "    if(len(i)>=3):\n",
    "        z.append(i)\n",
    "print(z)"
   ]
  },
  {
   "cell_type": "code",
   "execution_count": 87,
   "metadata": {},
   "outputs": [
    {
     "name": "stdout",
     "output_type": "stream",
     "text": [
      "enter number[\"DhonD\",\"Sachin\",\"Virat\"]\n",
      "['DhonD']\n"
     ]
    }
   ],
   "source": [
    "a=eval(input(\"enter number\"))\n",
    "z=[]\n",
    "for i in a:\n",
    "\n",
    "    if(i[0]==i[-1]):\n",
    "        z.append(i)\n",
    "        print(z)"
   ]
  },
  {
   "cell_type": "code",
   "execution_count": 117,
   "metadata": {},
   "outputs": [
    {
     "name": "stdout",
     "output_type": "stream",
     "text": [
      "enter number[\"a\",\"ab\",\"abc\"]\n",
      "['a']\n",
      "['a']\n",
      "['b']\n",
      "['a']\n",
      "['b']\n",
      "['c']\n"
     ]
    }
   ],
   "source": [
    "a=eval(input(\"enter number\"))\n",
    "for i in a:\n",
    "    for j in i:\n",
    "        print(sorted(j))\n",
    "        b=sorted(j,reverse=True)\n",
    "#         print(b)\n",
    "        "
   ]
  },
  {
   "cell_type": "code",
   "execution_count": 40,
   "metadata": {},
   "outputs": [
    {
     "name": "stdout",
     "output_type": "stream",
     "text": [
      "enter a strimgabc def\n",
      "enter a increamental number 3\n",
      "def#ghi\n",
      "7\n"
     ]
    }
   ],
   "source": [
    "ch = input(\"enter a strimg\")\n",
    "b=int(input(\"enter a increamental number \"))\n",
    "z=\"\"\n",
    "for i in ch:\n",
    "    x = chr(ord(i) + b)\n",
    "    z+=\"\".join(x)\n",
    "print(z)\n",
    "print(len(z))"
   ]
  },
  {
   "cell_type": "code",
   "execution_count": 41,
   "metadata": {},
   "outputs": [
    {
     "name": "stdout",
     "output_type": "stream",
     "text": [
      "enter a strimgabc def\n",
      "enter a increamental number 3\n",
      "d\n",
      "e\n",
      "f\n",
      "#\n",
      "g\n",
      "h\n",
      "i\n",
      "7\n"
     ]
    }
   ],
   "source": [
    "ch = input(\"enter a strimg\")\n",
    "b=int(input(\"enter a increamental number \"))\n",
    "\n",
    "for i in ch:\n",
    "    x = chr(ord(i) + b)\n",
    "\n",
    "    print(x)\n",
    "print(len(z))"
   ]
  },
  {
   "cell_type": "code",
   "execution_count": 48,
   "metadata": {},
   "outputs": [
    {
     "name": "stdout",
     "output_type": "stream",
     "text": [
      "Enter a string: a z\n",
      "Enter an incremental number: 1\n",
      "b!{\n",
      "Length of input string: 3\n"
     ]
    }
   ],
   "source": [
    "ch = input(\"Enter a string: \")\n",
    "b = int(input(\"Enter an incremental number: \"))\n",
    "for i in ch:\n",
    "    x = chr(ord(i) + b)  \n",
    "    if x == '#':\n",
    "        x = ' ' \n",
    "    print(x, end='') \n",
    "print() \n",
    "print(\"Length of input string:\", len(ch))"
   ]
  },
  {
   "cell_type": "code",
   "execution_count": 60,
   "metadata": {},
   "outputs": [
    {
     "name": "stdout",
     "output_type": "stream",
     "text": [
      "enter a stringasa da\n",
      "enter key2\n",
      "CUC FC\n"
     ]
    }
   ],
   "source": [
    "x=input(\"enter a string\")\n",
    "x=x.upper()\n",
    "z=\"ABCDEFGHIJKLMNOPQRSTUVWXYZ\"\n",
    "key=int(input(\"enter key\"))\n",
    "r=\"\"\n",
    "for i in x:\n",
    "    if i in z:\n",
    "        index=(z.find(i)+key)%len(z)\n",
    "        r=r+z[index]\n",
    "    else: \n",
    "        r=r+\" \"\n",
    "print(r)"
   ]
  },
  {
   "cell_type": "code",
   "execution_count": 80,
   "metadata": {},
   "outputs": [
    {
     "name": "stdout",
     "output_type": "stream",
     "text": [
      "enter a stringabc def\n",
      "enter key2\n",
      "acdfb e\n"
     ]
    }
   ],
   "source": [
    "x=input(\"enter a string\")\n",
    "key=int(input(\"enter key\"))\n",
    "r=\"\"\n",
    "for i in range(key):\n",
    "    r=r+x[i::key]\n",
    "print(r)\n",
    "# {1,2,3,4,5,6}\n",
    "{1,2,3,4,5,6,7,8,9}"
   ]
  },
  {
   "cell_type": "code",
   "execution_count": 96,
   "metadata": {},
   "outputs": [
    {
     "name": "stdout",
     "output_type": "stream",
     "text": [
      "enter number{\"this\"}\n",
      "enter number{\"th\"}\n",
      "False\n",
      "False\n",
      "False\n",
      "{'this'}\n",
      "{'this', 'th'}\n",
      "set()\n",
      "{'this', 'th'}\n"
     ]
    }
   ],
   "source": [
    "# {1,2,3,4,5,6}\n",
    "# {1,2,3,4,5,6,7,8,9}\n",
    "a=eval(input(\"enter number\"))\n",
    "b=eval(input(\"enter number\"))\n",
    "\n",
    "print(b.issubset(a))\n",
    "print(a.issubset(b))\n",
    "print(a.issuperset(b))\n",
    "print(a.difference(b))\n",
    "print(a.union(b))\n",
    "print(a.intersection(b))\n",
    "print(a.symmetric_difference(b))"
   ]
  },
  {
   "cell_type": "code",
   "execution_count": 93,
   "metadata": {},
   "outputs": [
    {
     "name": "stdout",
     "output_type": "stream",
     "text": [
      "enter number{1,2,3}\n",
      "enter number{4,5,6}\n",
      "{1, 2, 3, 4, 5, 6}\n",
      "{1, 2, 3}\n"
     ]
    }
   ],
   "source": [
    "a=eval(input(\"enter number\"))\n",
    "b=eval(input(\"enter number\"))\n",
    "print(a.union(b))\n",
    "print(a.difference(b))"
   ]
  },
  {
   "cell_type": "code",
   "execution_count": 1,
   "metadata": {},
   "outputs": [
    {
     "name": "stdout",
     "output_type": "stream",
     "text": [
      "enter numberabhii\n",
      "{'h', 'b', 'i', 'a'}\n"
     ]
    }
   ],
   "source": [
    "a=input(\"enter number\")\n",
    "b=set(a)\n",
    "print(b)\n"
   ]
  },
  {
   "cell_type": "code",
   "execution_count": 7,
   "metadata": {},
   "outputs": [
    {
     "name": "stdout",
     "output_type": "stream",
     "text": [
      "enter number[1,2,4,6,7,3,0]\n",
      "[7, 6, 4, 3, 2, 1, 0]\n"
     ]
    }
   ],
   "source": [
    "a=eval(input(\"enter number\"))\n",
    "# print(sorted(a))\n",
    "# b=sorted(a,reverse=True)\n",
    "# print(b[0],b[1],b[2])\n",
    "\n",
    "for i in a:\n",
    "    b=sorted(a,reverse=True)\n",
    "print(b)\n"
   ]
  },
  {
   "cell_type": "code",
   "execution_count": 1,
   "metadata": {},
   "outputs": [
    {
     "name": "stdout",
     "output_type": "stream",
     "text": [
      "192.168.1.1. is NOT a valid IP address.\n"
     ]
    }
   ],
   "source": [
    "ip = \"192.168.1.1.\"\n",
    "\n",
    "parts = ip.split(\".\")\n",
    "\n",
    "\n",
    "if len(parts) == 4:\n",
    "    valid = True  \n",
    "    for part in parts:\n",
    "        if not part.isdigit() or not (0 <= int(part) <= 255):\n",
    "            valid = False\n",
    "            break  \n",
    "    if valid:\n",
    "        print(f\"{ip} is a valid IP address.\")\n",
    "    else:\n",
    "        print(f\"{ip} is NOT a valid IP address.\")\n",
    "else:\n",
    "    print(f\"{ip} is NOT a valid IP address.\")\n"
   ]
  },
  {
   "cell_type": "code",
   "execution_count": 25,
   "metadata": {},
   "outputs": [
    {
     "name": "stdout",
     "output_type": "stream",
     "text": [
      "enter a stringababa\n",
      "aa\n"
     ]
    }
   ],
   "source": [
    "a=input(\"enter a string\")\n",
    "b=a.replace(a[0],\"#\")\n",
    "print(a[0]+b[1:])"
   ]
  },
  {
   "cell_type": "code",
   "execution_count": 35,
   "metadata": {},
   "outputs": [
    {
     "name": "stdout",
     "output_type": "stream",
     "text": [
      "enter a stringacgfgsdsded\n",
      "#cgfgsdsde#\n"
     ]
    }
   ],
   "source": [
    "a=input(\"enter a string\")\n",
    "print(\"#\"+a[1:-1]+\"#\")\n"
   ]
  },
  {
   "cell_type": "code",
   "execution_count": 40,
   "metadata": {},
   "outputs": [
    {
     "name": "stdout",
     "output_type": "stream",
     "text": [
      "enter a string[\"Dhruv\",\"Dhoni\",\"Devgan\"]\n",
      "['#hru#', '#hon#', '#evga#']\n"
     ]
    }
   ],
   "source": [
    "a=eval(input(\"enter a string\"))\n",
    "x=[]\n",
    "for i in a:\n",
    "    x.append(\"#\"+i[1:-1]+\"#\")\n",
    "print(x)"
   ]
  },
  {
   "cell_type": "code",
   "execution_count": 67,
   "metadata": {},
   "outputs": [
    {
     "name": "stdout",
     "output_type": "stream",
     "text": [
      "[1, 4, 9, 16, 25, 36, 49]\n"
     ]
    }
   ],
   "source": [
    "a=[1,2,3,4,5,6,7]\n",
    "b=[1,2,3,4,5,6,7]\n",
    "l1=list(map(lambda x,y:x*y, a,b))\n",
    "print(l1)"
   ]
  },
  {
   "cell_type": "code",
   "execution_count": 68,
   "metadata": {},
   "outputs": [
    {
     "name": "stdout",
     "output_type": "stream",
     "text": [
      "[2, 4, 6] [1, 3, 5, 7]\n"
     ]
    }
   ],
   "source": [
    "a=[1,2,3,4,5,6,7]\n",
    "l1=list(filter(lambda x:x%2==0, a))\n",
    "l2=list(filter(lambda x:x%2!=0, a))\n",
    "print(l1,l2)"
   ]
  },
  {
   "cell_type": "code",
   "execution_count": 80,
   "metadata": {},
   "outputs": [
    {
     "name": "stdout",
     "output_type": "stream",
     "text": [
      "[1, 2, 3, 4, 5, 6, 7, 8, 9, 10, 11, 12, 13, 14, 15, 16, 17, 18, 19, 20, 21, 22, 23, 24, 25, 26, 27, 28, 29, 30, 31, 32, 33, 34, 35, 36, 37, 38, 39, 40, 41, 42, 43, 44, 45, 46, 47, 48, 49, 50]\n",
      "[-50, -49, -48, -47, -46, -45, -44, -43, -42, -41, -40, -39, -38, -37, -36, -35, -34, -33, -32, -31, -30, -29, -28, -27, -26, -25, -24, -23, -22, -21, -20, -19, -18, -17, -16, -15, -14, -13, -12, -11, -10, -9, -8, -7, -6, -5, -4, -3, -2, -1]\n"
     ]
    }
   ],
   "source": [
    "a=list(range(-50,51))\n",
    "l1=list(filter(lambda x:x>0, a))\n",
    "l2=list(filter(lambda x:x<0, a))\n",
    "print(l1)\n",
    "print(l2)"
   ]
  },
  {
   "cell_type": "code",
   "execution_count": 81,
   "metadata": {},
   "outputs": [
    {
     "name": "stdout",
     "output_type": "stream",
     "text": [
      "21\n"
     ]
    }
   ],
   "source": [
    "import functools\n",
    "a=[1,2,3,4,5,6]\n",
    "l1= functools.reduce(lambda x,y:x+y, a)\n",
    "print(l1)"
   ]
  },
  {
   "cell_type": "code",
   "execution_count": 84,
   "metadata": {},
   "outputs": [
    {
     "name": "stdout",
     "output_type": "stream",
     "text": [
      "[(1, 10), (5, 6), (3, 4)]\n"
     ]
    }
   ],
   "source": [
    "tup=((1,10),(3,4),(5,6))\n",
    "l1= sorted(tup,key=lambda x:x[1],reverse=True)\n",
    "print(l1)"
   ]
  },
  {
   "cell_type": "code",
   "execution_count": 89,
   "metadata": {},
   "outputs": [
    {
     "name": "stdout",
     "output_type": "stream",
     "text": [
      "[3, 6, 9, 12, 15, 18, 21, 24, 27, 30, 33, 36, 39, 42, 45, 48, 51, 54, 57, 60, 63, 66, 69, 72, 75, 78, 81, 84, 87, 90, 93, 96, 99]\n"
     ]
    }
   ],
   "source": [
    "a=list(range(1,101))\n",
    "l1=list(filter(lambda x:x%2==0, a))\n",
    "r1=list(filter(lambda y:y%6==0, l1))\n",
    "l2=list(filter(lambda x:x%2!=0, a))\n",
    "r2=list(filter(lambda y:y%3==0, l2))\n",
    "print(sorted(r1+r2))"
   ]
  }
 ],
 "metadata": {
  "kernelspec": {
   "display_name": "Python 3",
   "language": "python",
   "name": "python3"
  },
  "language_info": {
   "codemirror_mode": {
    "name": "ipython",
    "version": 3
   },
   "file_extension": ".py",
   "mimetype": "text/x-python",
   "name": "python",
   "nbconvert_exporter": "python",
   "pygments_lexer": "ipython3",
   "version": "3.8.5"
  }
 },
 "nbformat": 4,
 "nbformat_minor": 4
}
